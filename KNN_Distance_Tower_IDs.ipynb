{
 "metadata": {
  "name": "",
  "signature": "sha256:a40b70bfa5d05e088d9aab886ff723fb062ab273a9db6f78267939c3d6071842"
 },
 "nbformat": 3,
 "nbformat_minor": 0,
 "worksheets": [
  {
   "cells": [
    {
     "cell_type": "code",
     "collapsed": false,
     "input": [
      "import numpy as np\n",
      "import pandas as pd\n",
      "import random\n",
      "\n",
      "from sklearn.preprocessing import Imputer\n",
      "# all of this is preprocessing data\n",
      "Static_class =  np.array(pd.read_csv('Static_User_Trace_Channel.csv', sep = ';'))\n",
      "Mobile_class = np.array(pd.read_csv('Mobile_User_Trace_Channel_Sample_10000.csv', sep = ';'))\n",
      "\n",
      "\n",
      "dimension = 20\n",
      "\n",
      "idx_sec = []\n",
      "for i in xrange(1, dimension + 1):\n",
      "    idx_sec.append(i * 2 + 1)\n",
      "\n",
      "idx_fir = []\n",
      "for i in xrange(1, dimension + 1):\n",
      "    idx_fir.append(i * 2)\n",
      "    \n",
      "Static_temp = []\n",
      "Mobile_temp = []\n",
      "\n",
      "dimension = 188\n",
      "\n",
      "exist1 = [0]*dimension\n",
      "for el in Static_class:\n",
      "    temp = [0]*dimension\n",
      "    for i in idx_fir:\n",
      "        temp[int(el[i - 1]) - 1] = el[i]\n",
      "        exist1[int(el[i - 1]) - 1] = int(el[i - 1])\n",
      "    Static_temp.append(temp)\n",
      "      \n",
      "#print 'Static:', exist1\n",
      "exist2 = [0]*dimension\n",
      "\n",
      "for el in Mobile_class:\n",
      "    temp = [0]*dimension\n",
      "    for i in idx_sec:\n",
      "        temp[int(el[i - 1]) - 1] = el[i]\n",
      "        exist2[int(el[i - 1]) - 1] = int(el[i - 1])\n",
      "    Mobile_temp.append(temp)\n",
      "\n",
      "#print 'Mobile:', exist2\n",
      "temp = []\n",
      "for i in xrange(0, dimension):\n",
      "    if exist2[i] == 0:\n",
      "        if exist1[i] != 0:\n",
      "            temp.append(exist1[i])\n",
      "    if exist1[i] == 0:\n",
      "        if exist2[i] != 0:\n",
      "            temp.append(exist2[i])\n",
      "print 'Diif:', temp\n",
      "#print Static_temp[0]\n",
      "#print Static_class[0]\n",
      "# 87 - 7250, 132 - 5500, 177 - 2000, 166 - 4100, 177 - 2500,"
     ],
     "language": "python",
     "metadata": {},
     "outputs": [
      {
       "output_type": "stream",
       "stream": "stdout",
       "text": [
        "Diif: [7, 10, 37, 38, 40, 44, 47, 51, 55, 57, 58, 59, 87, 93, 100, 102, 106, 107, 112, 114, 125, 128, 129, 130, 132, 142, 144, 147, 153, 160, 162, 164, 165, 166, 167, 174, 175, 177, 183, 188]\n"
       ]
      }
     ],
     "prompt_number": 22
    },
    {
     "cell_type": "code",
     "collapsed": false,
     "input": [
      "print 'Static:', (size(Static_temp) / dimension)\n",
      "print 'Mobile:', (size(Mobile_temp) / dimension)\n",
      "\n",
      "Xdatat = concatenate((Static_temp, Mobile_temp),axis=0)\n",
      "Ydatat = concatenate( ([0] * (size(Static_temp) / dimension), [1] * (size(Mobile_temp) / dimension)) , axis = 0)\n",
      "#data = concatenate( (all_data, class_labels), axis = 1)\n",
      "\n",
      "np.random.seed(179)\n",
      "print size(Ydatat)\n",
      "perm = np.random.permutation(size(Ydatat))\n",
      "Xdata = Xdatat[perm][:]\n",
      "Ydata = Ydatat[perm]\n",
      "\n",
      "print Xdata[0]\n",
      "Xtrain = Xdata[15000:][:]\n",
      "print 'Train:', Xtrain.shape\n",
      "Ytrain =Ydata[15000:][:]\n",
      "print 'Mobile in train:', sum(Ytrain)\n",
      "\n",
      "Xtest = Xdata[:15000][:]\n",
      "print 'Test:', Xtest.shape\n",
      "Ytest = Ydata[:15000][:]\n",
      "print 'Mobile in test:', sum(Ytest)"
     ],
     "language": "python",
     "metadata": {},
     "outputs": [
      {
       "output_type": "stream",
       "stream": "stdout",
       "text": [
        "Static: "
       ]
      },
      {
       "output_type": "stream",
       "stream": "stdout",
       "text": [
        "9999\n",
        "Mobile: "
       ]
      },
      {
       "output_type": "stream",
       "stream": "stdout",
       "text": [
        "9999\n",
        "19998"
       ]
      },
      {
       "output_type": "stream",
       "stream": "stdout",
       "text": [
        "\n",
        "[  0.     0.   -81.95   0.     0.     0.     0.   -81.4  -74.25 -75.22   0.\n",
        "   0.     0.   -78.97   0.   -79.22   0.     0.     0.     0.     0.     0.\n",
        "   0.     0.     0.   -78.77   0.     0.   -83.77   0.     0.     0.     0.\n",
        "   0.     0.     0.   -82.45   0.   -65.17 -80.71   0.     0.     0.     0.\n",
        "   0.     0.     0.     0.     0.     0.     0.     0.     0.     0.     0.\n",
        "   0.     0.     0.     0.     0.     0.     0.     0.     0.     0.     0.\n",
        "   0.     0.     0.     0.     0.     0.     0.     0.     0.     0.     0.\n",
        "   0.     0.     0.     0.     0.     0.     0.     0.     0.     0.     0.\n",
        " -78.59   0.     0.     0.     0.     0.     0.     0.     0.     0.     0.\n",
        " -47.12 -29.64 -64.5    0.     0.     0.     0.     0.     0.     0.     0.\n",
        "   0.     0.     0.     0.     0.     0.     0.     0.     0.     0.     0.\n",
        "   0.     0.     0.     0.     0.     0.     0.     0.     0.     0.     0.\n",
        "   0.   -76.07   0.     0.     0.     0.     0.     0.     0.   -68.48\n",
        " -73.78   0.     0.     0.     0.     0.     0.     0.     0.     0.     0.\n",
        "   0.     0.     0.     0.     0.     0.     0.     0.     0.     0.     0.\n",
        "   0.     0.     0.     0.     0.     0.     0.     0.     0.     0.     0.\n",
        "   0.     0.     0.     0.     0.   -73.92   0.     0.   -79.95   0.     0.\n",
        "   0.     0.  ]\n",
        "Train: (4998, 188)\n",
        "Mobile in train: 2484\n",
        "Test: (15000, 188)\n",
        "Mobile in test: 7515\n"
       ]
      }
     ],
     "prompt_number": 2
    },
    {
     "cell_type": "code",
     "collapsed": false,
     "input": [
      "def plot_quality(grid_searcher, param_name, log_scale):\n",
      "    means = []\n",
      "    stds = []\n",
      "    for elem in grid_searcher.grid_scores_:\n",
      "        means.append(mean(elem.cv_validation_scores))\n",
      "        stds.append(sqrt(var(elem.cv_validation_scores)))\n",
      "    means = array(means)\n",
      "    stds = array(stds)\n",
      "    \n",
      "    params = grid_searcher.param_grid\n",
      "    \n",
      "    figure(figsize=(8, 6))\n",
      "    plot(params[param_name], means)\n",
      "    fill_between(params[param_name], \\\n",
      "                 means + stds, means - stds, alpha = 0.3, facecolor='blue')\n",
      "    if log_scale:\n",
      "        xscale('log')\n",
      "    xlabel(param_name)\n",
      "    ylabel('AUC')\n",
      "    \n",
      "def test_classifier(cl, test_x, test_y, x, y):\n",
      "    print 'Test accuracy: ', cl.score(test_x, test_y)\n",
      "    print 'Data accuracy:', cl.score(x, y)"
     ],
     "language": "python",
     "metadata": {},
     "outputs": [],
     "prompt_number": 3
    },
    {
     "cell_type": "code",
     "collapsed": false,
     "input": [
      "from sklearn.grid_search import GridSearchCV\n",
      "from sklearn.neighbors import KNeighborsClassifier as KNN\n",
      "from sklearn.metrics import roc_auc_score\n",
      "\n",
      "params = {'n_neighbors': arange(1, 100, 1)}\n",
      "grid_searcher = GridSearchCV(KNN(weights = 'distance'),\\\n",
      "                             params, cv = 5, scoring='roc_auc', n_jobs=-1)\n",
      "grid_searcher.fit(Xtrain, Ytrain)\n",
      "\n",
      "print grid_searcher.best_score_\n",
      "print grid_searcher.best_estimator_\n",
      "\n",
      "plot_quality(grid_searcher, 'n_neighbors', True)"
     ],
     "language": "python",
     "metadata": {},
     "outputs": [
      {
       "output_type": "stream",
       "stream": "stdout",
       "text": [
        "1.0\n",
        "KNeighborsClassifier(algorithm='auto', leaf_size=30, metric='minkowski',\n",
        "           metric_params=None, n_jobs=1, n_neighbors=1, p=2,\n",
        "           weights='distance')\n"
       ]
      },
      {
       "output_type": "stream",
       "stream": "stderr",
       "text": [
        "/Users/Roman/shad-env/lib/python2.7/site-packages/matplotlib/collections.py:590: FutureWarning: elementwise comparison failed; returning scalar instead, but in the future will perform elementwise comparison\n",
        "  if self._edgecolors == str('face'):\n"
       ]
      },
      {
       "metadata": {},
       "output_type": "display_data",
       "png": "[encoded data removed]",
       "text": [
        "<matplotlib.figure.Figure at 0x10a7c1610>"
       ]
      }
     ],
     "prompt_number": 4
    },
    {
     "cell_type": "code",
     "collapsed": false,
     "input": [
      "test_classifier(grid_searcher.best_estimator_, Xtest, Ytest, Xdata, Ydata)"
     ],
     "language": "python",
     "metadata": {},
     "outputs": [
      {
       "output_type": "stream",
       "stream": "stdout",
       "text": [
        "Test accuracy:  "
       ]
      },
      {
       "output_type": "stream",
       "stream": "stdout",
       "text": [
        "1.0\n",
        "Data accuracy: "
       ]
      },
      {
       "output_type": "stream",
       "stream": "stdout",
       "text": [
        "1.0\n"
       ]
      }
     ],
     "prompt_number": 5
    }
   ],
   "metadata": {}
  }
 ]
}