{
 "metadata": {
  "name": "",
  "signature": "sha256:cc24efb9ad76a51c5a316971500087c9106a572e5dcc2d304dd3957f800f0e47"
 },
 "nbformat": 3,
 "nbformat_minor": 0,
 "worksheets": [
  {
   "cells": [
    {
     "cell_type": "code",
     "collapsed": false,
     "input": [
      "import numpy as np\n",
      "import pandas as pd\n",
      "import random\n",
      "\n",
      "from sklearn.preprocessing import Imputer\n",
      "# all of this is preprocessing data\n",
      "Static_class =  np.array(pd.read_csv('Static_User_Trace_Channel.csv', sep = ';'))\n",
      "Mobile_class = np.array(pd.read_csv('Mobile_User_Trace_Channel_Sample_10000.csv', sep = ';'))\n",
      "\n",
      "\n",
      "dimension = 20\n",
      "\n",
      "idx_sec = []\n",
      "for i in xrange(1, dimension + 1):\n",
      "    idx_sec.append(i * 2 + 1)\n",
      "\n",
      "idx_fir = []\n",
      "for i in xrange(1, dimension + 1):\n",
      "    idx_fir.append(i * 2)\n",
      "    \n",
      "Static_temp = []\n",
      "Mobile_temp = []\n",
      "\n",
      "dimension = 188\n",
      "\n",
      "for el in Static_class:\n",
      "    temp = [0]*dimension\n",
      "    for i in idx_fir:\n",
      "        temp[int(el[i - 1]) - 1] = el[i]\n",
      "    Static_temp.append(temp)\n",
      "        \n",
      "\n",
      "for el in Mobile_class:\n",
      "    temp = [0]*dimension\n",
      "    for i in idx_sec:\n",
      "        temp[int(el[i - 1]) - 1] = el[i]\n",
      "    Mobile_temp.append(temp)\n"
     ],
     "language": "python",
     "metadata": {},
     "outputs": [],
     "prompt_number": 18
    },
    {
     "cell_type": "code",
     "collapsed": false,
     "input": [
      "print 'Static:', (size(Static_temp) / dimension)\n",
      "print 'Mobile:', (size(Mobile_temp) / dimension)\n",
      "\n",
      "Xdatat = concatenate((Static_temp, Mobile_temp),axis=0)\n",
      "Ydatat = concatenate( ([0] * (size(Static_temp) / dimension), [1] * (size(Mobile_temp) / dimension)) , axis = 0)\n",
      "#data = concatenate( (all_data, class_labels), axis = 1)\n",
      "\n",
      "np.random.seed(179)\n",
      "print size(Ydatat)\n",
      "perm = np.random.permutation(size(Ydatat))\n",
      "Xdata = Xdatat[perm][:]\n",
      "Ydata = Ydatat[perm]\n",
      "\n",
      "print Xdata[0]\n",
      "Xtrain = Xdata[15000:][:]\n",
      "print 'Train:', Xtrain.shape\n",
      "Ytrain =Ydata[15000:][:]\n",
      "print 'Mobile in train:', sum(Ytrain)\n",
      "\n",
      "Xtest = Xdata[:15000][:]\n",
      "print 'Test:', Xtest.shape\n",
      "Ytest = Ydata[:15000][:]\n",
      "print 'Mobile in test:', sum(Ytest)"
     ],
     "language": "python",
     "metadata": {},
     "outputs": [
      {
       "output_type": "stream",
       "stream": "stdout",
       "text": [
        "Static: "
       ]
      },
      {
       "output_type": "stream",
       "stream": "stdout",
       "text": [
        "9999\n",
        "Mobile: "
       ]
      },
      {
       "output_type": "stream",
       "stream": "stdout",
       "text": [
        "9999\n",
        "19998"
       ]
      },
      {
       "output_type": "stream",
       "stream": "stdout",
       "text": [
        "\n",
        "[  0.     0.   -81.95   0.     0.     0.     0.   -81.4  -74.25 -75.22   0.\n",
        "   0.     0.   -78.97   0.   -79.22   0.     0.     0.     0.     0.     0.\n",
        "   0.     0.     0.   -78.77   0.     0.   -83.77   0.     0.     0.     0.\n",
        "   0.     0.     0.   -82.45   0.   -65.17 -80.71   0.     0.     0.     0.\n",
        "   0.     0.     0.     0.     0.     0.     0.     0.     0.     0.     0.\n",
        "   0.     0.     0.     0.     0.     0.     0.     0.     0.     0.     0.\n",
        "   0.     0.     0.     0.     0.     0.     0.     0.     0.     0.     0.\n",
        "   0.     0.     0.     0.     0.     0.     0.     0.     0.     0.     0.\n",
        " -78.59   0.     0.     0.     0.     0.     0.     0.     0.     0.     0.\n",
        " -47.12 -29.64 -64.5    0.     0.     0.     0.     0.     0.     0.     0.\n",
        "   0.     0.     0.     0.     0.     0.     0.     0.     0.     0.     0.\n",
        "   0.     0.     0.     0.     0.     0.     0.     0.     0.     0.     0.\n",
        "   0.   -76.07   0.     0.     0.     0.     0.     0.     0.   -68.48\n",
        " -73.78   0.     0.     0.     0.     0.     0.     0.     0.     0.     0.\n",
        "   0.     0.     0.     0.     0.     0.     0.     0.     0.     0.     0.\n",
        "   0.     0.     0.     0.     0.     0.     0.     0.     0.     0.     0.\n",
        "   0.     0.     0.     0.     0.   -73.92   0.     0.   -79.95   0.     0.\n",
        "   0.     0.  ]\n",
        "Train: (4998, 188)\n",
        "Mobile in train: 2484\n",
        "Test: (15000, 188)\n",
        "Mobile in test: 7515\n"
       ]
      }
     ],
     "prompt_number": 19
    },
    {
     "cell_type": "code",
     "collapsed": false,
     "input": [
      "def plot_quality(grid_searcher, param_name, log_scale):\n",
      "    means = []\n",
      "    stds = []\n",
      "    for elem in grid_searcher.grid_scores_:\n",
      "        means.append(mean(elem.cv_validation_scores))\n",
      "        stds.append(sqrt(var(elem.cv_validation_scores)))\n",
      "    means = array(means)\n",
      "    stds = array(stds)\n",
      "    \n",
      "    params = grid_searcher.param_grid\n",
      "    \n",
      "    figure(figsize=(8, 6))\n",
      "    plot(params[param_name], means)\n",
      "    fill_between(params[param_name], \\\n",
      "                 means + stds, means - stds, alpha = 0.3, facecolor='blue')\n",
      "    if log_scale:\n",
      "        xscale('log')\n",
      "    xlabel(param_name)\n",
      "    ylabel('AUC')\n",
      "    \n",
      "def test_classifier(cl, test_x, test_y, x, y):\n",
      "    print 'Test accuracy: ', cl.score(test_x, test_y)\n",
      "    print 'Data accuracy:', cl.score(x, y)"
     ],
     "language": "python",
     "metadata": {},
     "outputs": [],
     "prompt_number": 20
    },
    {
     "cell_type": "code",
     "collapsed": false,
     "input": [
      "from sklearn.grid_search import GridSearchCV\n",
      "from sklearn.svm import SVC\n",
      "from sklearn.metrics import roc_auc_score\n",
      "\n",
      "params = {'C': np.logspace(-3, 3, 10)}\n",
      "grid_searcher = GridSearchCV(SVC(kernel = 'rbf'),\\\n",
      "                             params, cv = 5, scoring='roc_auc', n_jobs=-1)\n",
      "grid_searcher.fit(Xtrain, Ytrain)\n",
      "\n",
      "print grid_searcher.best_score_\n",
      "print grid_searcher.best_estimator_\n",
      "\n",
      "plot_quality(grid_searcher, 'C', True)"
     ],
     "language": "python",
     "metadata": {},
     "outputs": [
      {
       "output_type": "stream",
       "stream": "stdout",
       "text": [
        "0.932635580868\n",
        "SVC(C=2.154434690031882, cache_size=200, class_weight=None, coef0=0.0,\n",
        "  decision_function_shape=None, degree=3, gamma='auto', kernel='rbf',\n",
        "  max_iter=-1, probability=False, random_state=None, shrinking=True,\n",
        "  tol=0.001, verbose=False)\n"
       ]
      },
      {
       "metadata": {},
       "output_type": "display_data",
       "png": "[encoded data removed]",
       "text": [
        "<matplotlib.figure.Figure at 0x10cfa3a10>"
       ]
      }
     ],
     "prompt_number": 21
    },
    {
     "cell_type": "code",
     "collapsed": false,
     "input": [
      "test_classifier(grid_searcher.best_estimator_, Xtest, Ytest, Xdata, Ydata)"
     ],
     "language": "python",
     "metadata": {},
     "outputs": [
      {
       "output_type": "stream",
       "stream": "stdout",
       "text": [
        "Test accuracy:  "
       ]
      },
      {
       "output_type": "stream",
       "stream": "stdout",
       "text": [
        "0.860266666667\n",
        "Data accuracy: "
       ]
      },
      {
       "output_type": "stream",
       "stream": "stdout",
       "text": [
        "0.895189518952\n"
       ]
      }
     ],
     "prompt_number": 17
    }
   ],
   "metadata": {}
  }
 ]
}