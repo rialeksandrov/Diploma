{
 "metadata": {
  "name": "",
  "signature": "sha256:64238da70edfc3835ef00ae0b3b66259fb6b8acacccb2b2ca803382d7a831eea"
 },
 "nbformat": 3,
 "nbformat_minor": 0,
 "worksheets": [
  {
   "cells": [
    {
     "cell_type": "code",
     "collapsed": false,
     "input": [
      "import numpy as np\n",
      "import pandas as pd\n",
      "import random\n",
      "\n",
      "from sklearn.preprocessing import Imputer\n",
      "# all of this is preprocessing data\n",
      "first_class =  np.array(pd.read_csv('Static_User_Trace_Channel.csv', sep = ';'))\n",
      "second_class = np.array(pd.read_csv('Mobile_User_Trace_Channel_Sample_2.csv', sep = ';'))\n",
      "\n",
      "# if you want you could use only three measures:\n",
      "# a = 4\n",
      "a = 21\n",
      "\n",
      "idx_sec = []\n",
      "for i in xrange(1, a):\n",
      "    idx_sec.append(i * 2 + 1)\n",
      "\n",
      "idx_fir = []\n",
      "for i in xrange(1, a):\n",
      "    idx_fir.append(i * 2)\n",
      "    \n",
      "first_temp = first_class[:, idx_fir]\n",
      "second_temp = second_class[:, idx_sec]\n",
      "\n",
      "Xdatat = concatenate((first_temp, second_temp),axis=0)\n",
      "Ydatat = concatenate( ([0] * (size(first_temp) / (a - 1)), [1] * (size(second_temp) / (a - 1))) , axis = 0)\n",
      "#data = concatenate( (all_data, class_labels), axis = 1)\n",
      "\n",
      "np.random.seed(179)\n",
      "print size(Ydatat)\n",
      "perm = np.random.permutation(size(Ydatat))\n",
      "Xdata = Xdatat[perm][:]\n",
      "Ydata = Ydatat[perm]\n",
      "\n",
      "print Xdata[0]\n",
      "Xtrain = Xdata[15000:][:]\n",
      "print Xtrain.shape\n",
      "Ytrain = Ydata[15000:][:]\n",
      "print sum(Ytrain)\n",
      "\n",
      "Xtest = Xdata[:15000][:]\n",
      "print Xtest.shape\n",
      "Ytest = Ydata[:15000][:]\n",
      "print sum(Ytest)"
     ],
     "language": "python",
     "metadata": {},
     "outputs": [
      {
       "output_type": "stream",
       "stream": "stdout",
       "text": [
        "20156\n",
        "[-38.09 -43.1  -53.21 -66.96 -67.42 -69.37 -73.3  -73.47 -74.22 -76.98\n",
        " -77.01 -79.12 -80.65 -80.73 -81.69 -82.11 -82.28 -82.49 -82.53 -83.05]\n",
        "(5156, 20)\n",
        "2596\n",
        "(15000, 20)\n",
        "7561\n"
       ]
      }
     ],
     "prompt_number": 1
    },
    {
     "cell_type": "code",
     "collapsed": false,
     "input": [
      "def plot_quality(grid_searcher, param_name):\n",
      "    means = []\n",
      "    stds = []\n",
      "    for elem in grid_searcher.grid_scores_:\n",
      "        means.append(mean(elem.cv_validation_scores))\n",
      "        stds.append(sqrt(var(elem.cv_validation_scores)))\n",
      "    means = array(means)\n",
      "    stds = array(stds)\n",
      "    \n",
      "    params = grid_searcher.param_grid\n",
      "    \n",
      "    figure(figsize=(8, 6))\n",
      "    plot(params[param_name], means)\n",
      "    fill_between(params[param_name], \\\n",
      "                 means + stds, means - stds, alpha = 0.3, facecolor='blue')\n",
      "    xlabel(param_name)\n",
      "    ylabel('AUC')\n",
      "    \n",
      "    \n",
      "def plot_grid_searcher_results(grid_seacher, log_scale):\n",
      "    means = list()\n",
      "    param_values = list()\n",
      "\n",
      "    for score in grid_searcher.grid_scores_:\n",
      "        #print score.cv_validation_scores\n",
      "        means.append(score.mean_validation_score)\n",
      "        param_values.append(score.parameters.values()[0])\n",
      "\n",
      "    parameter_name = grid_searcher.grid_scores_[0].parameters.keys()[0]\n",
      "    means = array(means)\n",
      "    \n",
      "    plot(param_values, means)\n",
      "    if log_scale:\n",
      "        xscale('log')\n",
      "    xlabel(parameter_name)\n",
      "    ylabel('Quality')\n",
      "    \n",
      "def test_classifier(cl, test_x, test_y, x, y):\n",
      "    print 'Test accuracy: ', cl.score(test_x, test_y)\n",
      "    print 'Data accuracy:', cl.score(x, y)"
     ],
     "language": "python",
     "metadata": {},
     "outputs": [],
     "prompt_number": 2
    },
    {
     "cell_type": "code",
     "collapsed": false,
     "input": [
      "from sklearn.grid_search import GridSearchCV\n",
      "from sklearn.svm import SVC\n",
      "from sklearn.metrics import roc_auc_score\n",
      "\n",
      "params = {'C': np.logspace(-6, 6, 10)}\n",
      "grid_searcher = GridSearchCV(SVC(),\\\n",
      "                             params, cv = 5, scoring='roc_auc', n_jobs=-1)\n",
      "grid_searcher.fit(Xtrain, Ytrain)\n",
      "\n",
      "print grid_searcher.best_score_\n",
      "print grid_searcher.best_estimator_\n",
      "\n",
      "plot_grid_searcher_results(grid_searcher, True)"
     ],
     "language": "python",
     "metadata": {},
     "outputs": [
      {
       "output_type": "stream",
       "stream": "stdout",
       "text": [
        "0.999962382019\n",
        "SVC(C=4.6415888336127722, cache_size=200, class_weight=None, coef0=0.0,\n",
        "  degree=3, gamma=0.0, kernel='rbf', max_iter=-1, probability=False,\n",
        "  random_state=None, shrinking=True, tol=0.001, verbose=False)\n"
       ]
      },
      {
       "metadata": {},
       "output_type": "display_data",
       "png": "[encoded data removed]",
       "text": [
        "<matplotlib.figure.Figure at 0x10b184b10>"
       ]
      }
     ],
     "prompt_number": 3
    },
    {
     "cell_type": "code",
     "collapsed": false,
     "input": [
      "test_classifier(grid_searcher.best_estimator_, Xtest, Ytest, Xdata, Ydata)"
     ],
     "language": "python",
     "metadata": {},
     "outputs": [
      {
       "output_type": "stream",
       "stream": "stdout",
       "text": [
        "Test accuracy:  "
       ]
      },
      {
       "output_type": "stream",
       "stream": "stdout",
       "text": [
        "0.9574\n",
        "Data accuracy: "
       ]
      },
      {
       "output_type": "stream",
       "stream": "stdout",
       "text": [
        "0.960259972217\n"
       ]
      }
     ],
     "prompt_number": 26
    }
   ],
   "metadata": {}
  }
 ]
}