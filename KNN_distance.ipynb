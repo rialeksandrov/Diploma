{
 "metadata": {
  "name": "",
  "signature": "sha256:389beead6fba4c28905f3ebb538f1c431be78677c35d07203f1f6142d74f2c30"
 },
 "nbformat": 3,
 "nbformat_minor": 0,
 "worksheets": [
  {
   "cells": [
    {
     "cell_type": "code",
     "collapsed": false,
     "input": [
      "import numpy as np\n",
      "import pandas as pd\n",
      "import random\n",
      "\n",
      "from sklearn.preprocessing import Imputer\n",
      "# all of this is preprocessing data\n",
      "first_class =  np.array(pd.read_csv('Static_User_Trace_Channel.csv', sep = ';'))\n",
      "second_class = np.array(pd.read_csv('Mobile_User_Trace_Channel_Sample_2.csv', sep = ';'))\n",
      "\n",
      "idx_sec = []\n",
      "for i in xrange(1, 21):\n",
      "    idx_sec.append(i * 2 + 1)\n",
      "\n",
      "idx_fir = []\n",
      "for i in xrange(1, 21):\n",
      "    idx_fir.append(i * 2)\n",
      "    \n",
      "first_temp = first_class[:, idx_fir]\n",
      "second_temp = second_class[:, idx_sec]\n",
      "\n",
      "Xdatat = concatenate((first_temp, second_temp),axis=0)\n",
      "Ydatat = concatenate( ([0] * (size(first_temp) / 20), [1] * (size(second_temp) / 20)) , axis = 0)\n",
      "#data = concatenate( (all_data, class_labels), axis = 1)\n",
      "\n",
      "np.random.seed(179)\n",
      "print size(Ydatat)\n",
      "perm = np.random.permutation(size(Ydatat))\n",
      "Xdata = Xdatat[perm][:]\n",
      "Ydata = Ydatat[perm]\n",
      "\n",
      "Xtrain = Xdata[15000:][:]\n",
      "print Xtrain.shape\n",
      "Ytrain = Ydata[15000:][:]\n",
      "print sum(Ytrain)\n",
      "\n",
      "Xtest = Xdata[:15000][:]\n",
      "print Xtest.shape\n",
      "Ytest = Ydata[:15000][:]\n",
      "print sum(Ytest)"
     ],
     "language": "python",
     "metadata": {},
     "outputs": [
      {
       "output_type": "stream",
       "stream": "stdout",
       "text": [
        "20156\n",
        "(5156, 20)\n",
        "2596\n",
        "(15000, 20)\n",
        "7561\n"
       ]
      }
     ],
     "prompt_number": 1
    },
    {
     "cell_type": "code",
     "collapsed": false,
     "input": [
      "def plot_quality(grid_searcher, param_name):\n",
      "    means = []\n",
      "    stds = []\n",
      "    for elem in grid_searcher.grid_scores_:\n",
      "        means.append(mean(elem.cv_validation_scores))\n",
      "        stds.append(sqrt(var(elem.cv_validation_scores)))\n",
      "    means = array(means)\n",
      "    stds = array(stds)\n",
      "    \n",
      "    params = grid_searcher.param_grid\n",
      "    \n",
      "    figure(figsize=(8, 6))\n",
      "    plot(params[param_name], means)\n",
      "    fill_between(params[param_name], \\\n",
      "                 means + stds, means - stds, alpha = 0.3, facecolor='blue')\n",
      "    xlabel(param_name)\n",
      "    ylabel('AUC')\n",
      "    \n",
      "    \n",
      "def plot_grid_searcher_results(grid_seacher, log_scale):\n",
      "    means = list()\n",
      "    param_values = list()\n",
      "\n",
      "    for score in grid_searcher.grid_scores_:\n",
      "        #print score.cv_validation_scores\n",
      "        means.append(score.mean_validation_score)\n",
      "        param_values.append(score.parameters.values()[0])\n",
      "\n",
      "    parameter_name = grid_searcher.grid_scores_[0].parameters.keys()[0]\n",
      "    means = array(means)\n",
      "    \n",
      "    plot(param_values, means)\n",
      "    if log_scale:\n",
      "        xscale('log')\n",
      "    xlabel(parameter_name)\n",
      "    ylabel('Quality')\n",
      "    \n",
      "def test_classifier(cl, test_x, test_y, x, y):\n",
      "    print 'Test accuracy: ', cl.score(test_x, test_y)\n",
      "    print 'Data accuracy:', cl.score(x, y)"
     ],
     "language": "python",
     "metadata": {},
     "outputs": [],
     "prompt_number": 4
    },
    {
     "cell_type": "code",
     "collapsed": false,
     "input": [
      "from sklearn.grid_search import GridSearchCV\n",
      "from sklearn.neighbors import KNeighborsClassifier as KNN\n",
      "from sklearn.metrics import roc_auc_score\n",
      "\n",
      "params = {'n_neighbors': arange(20, 120, 5)}\n",
      "grid_searcher = GridSearchCV(KNN(weights = 'distance'),\\\n",
      "                             params, cv = 50, scoring='roc_auc', n_jobs=-1)\n",
      "grid_searcher.fit(Xtrain, Ytrain)\n",
      "\n",
      "print grid_searcher.best_score_\n",
      "print grid_searcher.best_estimator_"
     ],
     "language": "python",
     "metadata": {},
     "outputs": [
      {
       "output_type": "stream",
       "stream": "stdout",
       "text": [
        "0.995328920194\n",
        "KNeighborsClassifier(algorithm='auto', leaf_size=30, metric='minkowski',\n",
        "           metric_params=None, n_neighbors=50, p=2, weights='distance')\n"
       ]
      }
     ],
     "prompt_number": 5
    },
    {
     "cell_type": "code",
     "collapsed": false,
     "input": [
      "plot_quality(grid_searcher, 'n_neighbors')"
     ],
     "language": "python",
     "metadata": {},
     "outputs": [
      {
       "metadata": {},
       "output_type": "display_data",
       "png": "[encoded data removed]",
       "text": [
        "<matplotlib.figure.Figure at 0x10766b590>"
       ]
      }
     ],
     "prompt_number": 6
    },
    {
     "cell_type": "code",
     "collapsed": false,
     "input": [
      "test_classifier(grid_searcher.best_estimator_, Xtest, Ytest, Xdata, Ydata)"
     ],
     "language": "python",
     "metadata": {},
     "outputs": [
      {
       "output_type": "stream",
       "stream": "stdout",
       "text": [
        "Test accuracy:  "
       ]
      },
      {
       "output_type": "stream",
       "stream": "stdout",
       "text": [
        "0.944333333333\n",
        "Data accuracy: "
       ]
      },
      {
       "output_type": "stream",
       "stream": "stdout",
       "text": [
        "0.958573129589\n"
       ]
      }
     ],
     "prompt_number": 7
    }
   ],
   "metadata": {}
  }
 ]
}